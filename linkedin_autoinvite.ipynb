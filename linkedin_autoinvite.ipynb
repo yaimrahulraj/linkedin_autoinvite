{
 "cells": [
  {
   "cell_type": "code",
   "execution_count": 1,
   "id": "d0b69727",
   "metadata": {},
   "outputs": [],
   "source": [
    "# connect python with webbrowser-chrome\n",
    "from selenium import webdriver\n",
    "from selenium.webdriver.common.keys import Keys\n",
    "import pyautogui as pag\n",
    "from webdriver_manager.chrome import ChromeDriverManager\n",
    "from selenium.webdriver.chrome.options import Options\n",
    "from selenium.webdriver.support.ui import WebDriverWait\n",
    "from selenium.webdriver.support import expected_conditions as EC\n",
    "from selenium.webdriver.common.by import By\n",
    "from bs4 import BeautifulSoup\n",
    "from selenium.webdriver.common.action_chains import ActionChains"
   ]
  },
  {
   "cell_type": "code",
   "execution_count": 2,
   "id": "d9cbb7be",
   "metadata": {},
   "outputs": [],
   "source": [
    "#User Input\n",
    "username = \"enter-your mail-id\"\n",
    "password = \"enter-your-password\"\n",
    "keywords = [\"talent acquisition\"]\n",
    "message = \"\"\"Hi,\n",
    "\n",
    "I hope you're doing well. I'm excited to explore new opportunities and believe my skills and experience would make me a valuable asset to your team. Please let me know if you have any potential opportunities available.\n",
    "\n",
    "Thanks,\n",
    "Your-name\"\"\"\n",
    "# Number of requests you want to send\n",
    "num_req = 100"
   ]
  },
  {
   "cell_type": "code",
   "execution_count": 3,
   "id": "9249b074",
   "metadata": {},
   "outputs": [],
   "source": [
    "#tracker for number of people\n",
    "pplCounter = 0"
   ]
  },
  {
   "cell_type": "code",
   "execution_count": 4,
   "id": "7f0e656e",
   "metadata": {},
   "outputs": [],
   "source": [
    "def login(driver, wait, username, password):\n",
    "    try:\n",
    "        print(\"logging in to linkedin!\")\n",
    "        # Getting the login element and Sending the keys for username\t\n",
    "        wait.until(EC.visibility_of_element_located((By.XPATH,'//*[@id=\"session_key\"]'))).send_keys(username)\n",
    "        #//*[@id=\"session_key\"]\n",
    "        #//*[@id=\"session_password\"]\n",
    "\n",
    "        # Getting the password element and Sending the keys for password\n",
    "        wait.until(EC.visibility_of_element_located((By.XPATH,'//*[@id=\"session_password\"]'))).send_keys(password)\n",
    "        # Getting the tag for submit button\t\t\t\t\t\n",
    "        #//*[@id=\"main-content\"]/section[1]/div/div/form[1]/div[2]/button\n",
    "        wait.until(EC.visibility_of_element_located((By.XPATH,'//*[@id=\"main-content\"]/section[1]/div/div/form[1]/div[2]/button'))).click()\n",
    "        print(\"Successfully logged in!\")\n",
    "    except:\n",
    "        print(\"linkedin login failed!\")\n",
    "    "
   ]
  },
  {
   "cell_type": "code",
   "execution_count": 5,
   "id": "f20c5850",
   "metadata": {},
   "outputs": [],
   "source": [
    "def login1(driver, wait, username, password): \n",
    "    wait.until(EC.visibility_of_element_located((By.XPATH,'//*[@id=\"email-or-phone\"]'))).send_keys(username)\n",
    "    wait.until(EC.visibility_of_element_located((By.XPATH,'//*[@id=\"password\"]'))).send_keys(password)"
   ]
  },
  {
   "cell_type": "code",
   "execution_count": 6,
   "id": "265d6e0b",
   "metadata": {},
   "outputs": [],
   "source": [
    "def goto_network(driver, wait):\n",
    "\tdriver.find_element_by_id(\"mynetwork-tab-icon\").click()"
   ]
  },
  {
   "cell_type": "code",
   "execution_count": 7,
   "id": "a9856f4c",
   "metadata": {},
   "outputs": [],
   "source": [
    "#Connecting with people\n",
    "def send_requests(driver, wait,keyword):\n",
    "    try:\n",
    "        print(\"Inviting in Progress!!\")\n",
    "        for i in range(1, 11):\n",
    "            try:\n",
    "                connect_str = f'/html/body/div[5]/div[3]/div[2]/div/div[1]/main/div/div/div[2]/div/ul/li[{i}]/div/div/div[3]/div/button'\n",
    "                all_buttons = driver.find_elements_by_tag_name(\"button\")\n",
    "                connect_buttons = [btn for btn in all_buttons if btn.text == \"Connect\"]\n",
    "                for btn in connect_buttons:\n",
    "                    driver.execute_script(\"arguments[0].click();\", btn)\n",
    "                    add_note = driver.find_element_by_xpath(\"//button[@aria-label='Add a note']\")\n",
    "                    driver.execute_script(\"arguments[0].click();\", add_note)\n",
    "                    wait.until(EC.visibility_of_element_located((By.XPATH,'//*[@id=\"custom-message\"]'))).send_keys(message)\n",
    "                    send = driver.find_element_by_xpath(\"//button[@aria-label='Send now']\")\n",
    "                    driver.execute_script(\"arguments[0].click();\", send)\n",
    "                pplCounter +=1\n",
    "            except:\n",
    "                pass\n",
    "        print(f\"Completed Inviting people from {keyword}\")\n",
    "    except:\n",
    "        print(\"Inviting people failed!\")"
   ]
  },
  {
   "cell_type": "code",
   "execution_count": 8,
   "id": "9752e509",
   "metadata": {},
   "outputs": [],
   "source": [
    "##Filter by the keywords and parse the html using bs4\n",
    "def nav_page(driver, wait, num_req):\n",
    "    for i in keywords:\n",
    "        for j in range(1,num_req+1):\n",
    "            driver.get(\"https://www.linkedin.com/search/results/people/?keywords=\"+i+\"&page=\"+str(j))\n",
    "            send_requests(driver, wait, i)\n"
   ]
  },
  {
   "cell_type": "code",
   "execution_count": 9,
   "id": "47031c22",
   "metadata": {},
   "outputs": [],
   "source": [
    "def main():\n",
    "    try:\n",
    "        print(\"Starting the Bot!\")\n",
    "        # url of LinkedIn\n",
    "        url = \"http://linkedin.com/\"\n",
    "        # url of LinkedIn network page\n",
    "        network_url = \"https://www.linkedin.com/mynetwork/\"\n",
    "        # path to browser web driver\n",
    "        chrome_options = Options()\n",
    "        chrome_driver = ChromeDriverManager()\n",
    "        chrome_options.add_argument('--ignore-certificate-errors')\n",
    "        prefs = {\"disable-transitions\": True}\n",
    "        chrome_options.add_experimental_option(\"prefs\", prefs)\n",
    "        driver = webdriver.Chrome(chrome_driver.install(), options=chrome_options)\n",
    "        window_handles = driver.window_handles\n",
    "        driver.switch_to.window(window_handles[-1])\n",
    "        wait = WebDriverWait(driver, 10)    \n",
    "        driver.get(url)\n",
    "        login(driver,wait, username, password)\n",
    "        try:\n",
    "            ele = driver.find_element_by_xpath('//*[@id=\"email-or-phone\"]')\n",
    "            if(ele.is_displayed()):\n",
    "                login1(driver,wait, username, password)\n",
    "        except:\n",
    "            pass\n",
    "        nav_page(driver, wait, num_req)\n",
    "        print(f\"Congrats, you have connected with {pplCounter}, across {len(keywords)} keywords!\")\n",
    "    except Exception as e:\n",
    "        print(f\"Exception {e}, Occurred!\", \"\\n\", \"Please try again!!\")\n",
    "    \n",
    "    "
   ]
  },
  {
   "cell_type": "code",
   "execution_count": 10,
   "id": "9915cf50",
   "metadata": {},
   "outputs": [
    {
     "name": "stdout",
     "output_type": "stream",
     "text": [
      "Starting the Bot!\n",
      "logging in to linkedin!\n",
      "Successfully logged in!\n",
      "Inviting in Progress!!\n",
      "Completed Inviting people from talent acquisition\n",
      "Inviting in Progress!!\n",
      "Completed Inviting people from talent acquisition\n",
      "Exception Message: disconnected: not connected to DevTools\n",
      "  (failed to check if window was closed: disconnected: not connected to DevTools)\n",
      "  (Session info: chrome=112.0.5615.138)\n",
      ", Occurred! \n",
      " Please try again!!\n"
     ]
    }
   ],
   "source": [
    "# Driver's code\n",
    "if __name__ == \"__main__\":\n",
    "    main()"
   ]
  },
  {
   "cell_type": "code",
   "execution_count": null,
   "id": "2e4ffbba",
   "metadata": {},
   "outputs": [],
   "source": []
  },
  {
   "cell_type": "code",
   "execution_count": null,
   "id": "b5213c9e",
   "metadata": {},
   "outputs": [],
   "source": []
  }
 ],
 "metadata": {
  "kernelspec": {
   "display_name": "Python 3 (ipykernel)",
   "language": "python",
   "name": "python3"
  },
  "language_info": {
   "codemirror_mode": {
    "name": "ipython",
    "version": 3
   },
   "file_extension": ".py",
   "mimetype": "text/x-python",
   "name": "python",
   "nbconvert_exporter": "python",
   "pygments_lexer": "ipython3",
   "version": "3.11.2"
  }
 },
 "nbformat": 4,
 "nbformat_minor": 5
}
